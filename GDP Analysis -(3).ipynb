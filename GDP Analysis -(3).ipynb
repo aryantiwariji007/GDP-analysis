{
 "cells": [
  {
   "cell_type": "code",
   "execution_count": 3,
   "id": "c1767eac-0943-4440-a238-826759f7405b",
   "metadata": {},
   "outputs": [
    {
     "data": {
      "text/html": [
       "<div>\n",
       "<style scoped>\n",
       "    .dataframe tbody tr th:only-of-type {\n",
       "        vertical-align: middle;\n",
       "    }\n",
       "\n",
       "    .dataframe tbody tr th {\n",
       "        vertical-align: top;\n",
       "    }\n",
       "\n",
       "    .dataframe thead th {\n",
       "        text-align: right;\n",
       "    }\n",
       "</style>\n",
       "<table border=\"1\" class=\"dataframe\">\n",
       "  <thead>\n",
       "    <tr style=\"text-align: right;\">\n",
       "      <th></th>\n",
       "      <th>Country Name</th>\n",
       "      <th>Country Code</th>\n",
       "      <th>Year</th>\n",
       "      <th>Value</th>\n",
       "      <th>GDP</th>\n",
       "    </tr>\n",
       "  </thead>\n",
       "  <tbody>\n",
       "    <tr>\n",
       "      <th>0</th>\n",
       "      <td>Arab World</td>\n",
       "      <td>ARB</td>\n",
       "      <td>1968</td>\n",
       "      <td>2.576068e+10</td>\n",
       "      <td>0.00</td>\n",
       "    </tr>\n",
       "    <tr>\n",
       "      <th>1</th>\n",
       "      <td>Arab World</td>\n",
       "      <td>ARB</td>\n",
       "      <td>1969</td>\n",
       "      <td>2.843420e+10</td>\n",
       "      <td>10.38</td>\n",
       "    </tr>\n",
       "    <tr>\n",
       "      <th>2</th>\n",
       "      <td>Arab World</td>\n",
       "      <td>ARB</td>\n",
       "      <td>1970</td>\n",
       "      <td>3.138550e+10</td>\n",
       "      <td>10.38</td>\n",
       "    </tr>\n",
       "    <tr>\n",
       "      <th>3</th>\n",
       "      <td>Arab World</td>\n",
       "      <td>ARB</td>\n",
       "      <td>1971</td>\n",
       "      <td>3.642691e+10</td>\n",
       "      <td>16.06</td>\n",
       "    </tr>\n",
       "    <tr>\n",
       "      <th>4</th>\n",
       "      <td>Arab World</td>\n",
       "      <td>ARB</td>\n",
       "      <td>1972</td>\n",
       "      <td>4.331606e+10</td>\n",
       "      <td>18.91</td>\n",
       "    </tr>\n",
       "  </tbody>\n",
       "</table>\n",
       "</div>"
      ],
      "text/plain": [
       "  Country Name Country Code  Year         Value    GDP\n",
       "0   Arab World          ARB  1968  2.576068e+10   0.00\n",
       "1   Arab World          ARB  1969  2.843420e+10  10.38\n",
       "2   Arab World          ARB  1970  3.138550e+10  10.38\n",
       "3   Arab World          ARB  1971  3.642691e+10  16.06\n",
       "4   Arab World          ARB  1972  4.331606e+10  18.91"
      ]
     },
     "execution_count": 3,
     "metadata": {},
     "output_type": "execute_result"
    }
   ],
   "source": [
    "import os\n",
    "import pandas as pd\n",
    "import plotly.express as px\n",
    "import plotly.offline as pyo\n",
    "import seaborn as sns\n",
    "\n",
    "df = pd.read_csv('gdp.csv')\n",
    "\n",
    "final_data = []\n",
    "\n",
    "for country_name in df['Country Name'].unique():\n",
    "    df_pr = df[df['Country Name'] == country_name]\n",
    "    data = df_pr.values\n",
    "    gdp_change = [0]\n",
    "\n",
    "    for i in range(1,len(data)):\n",
    "        prev = data[i-1][3]\n",
    "        cur = data[i][3]\n",
    "        gdp_change.append(round(((cur - prev) / prev)*100,2))\n",
    "\n",
    "    df_pr = df_pr.assign(GDP = gdp_change)\n",
    "    final_data.append(df_pr)\n",
    "    \n",
    "df = pd.concat(final_data, axis = 0)\n",
    "\n",
    "df.head()"
   ]
  },
  {
   "cell_type": "markdown",
   "id": "972aa542-35c9-4bfc-a73e-7977562b14d3",
   "metadata": {},
   "source": [
    "GDP Comparisons between specific Countries"
   ]
  },
  {
   "cell_type": "code",
   "execution_count": 5,
   "id": "ab310754-95a2-4b1f-a93e-dd9fe74ec21c",
   "metadata": {},
   "outputs": [],
   "source": [
    "lst=[\"ITA\",\"IND\",\"USA\",\"CHN\"]"
   ]
  },
  {
   "cell_type": "code",
   "execution_count": 6,
   "id": "42c73137-62d9-4d98-a19c-20ca05970413",
   "metadata": {},
   "outputs": [],
   "source": [
    "dfs=[]\n",
    "\n",
    "for i in lst:\n",
    "    dfs.append(df[df[\"Country Code\"]==i])\n",
    "    df_pr=pd.concat(dfs,axis=0)"
   ]
  },
  {
   "cell_type": "code",
   "execution_count": 5,
   "id": "8a3e7f07-6cba-4ca9-a14f-7f5b3bd61352",
   "metadata": {},
   "outputs": [
    {
     "data": {
      "text/plain": [
       "array(['Italy', 'India', 'United States', 'China'], dtype=object)"
      ]
     },
     "execution_count": 5,
     "metadata": {},
     "output_type": "execute_result"
    }
   ],
   "source": [
    "df_pr[\"Country Name\"].unique()"
   ]
  },
  {
   "cell_type": "code",
   "execution_count": 6,
   "id": "1c7db1af-034e-41b3-99a5-631106e71362",
   "metadata": {},
   "outputs": [
    {
     "data": {
      "text/plain": [
       "'ITA& IND& USA& CHN.html'"
      ]
     },
     "execution_count": 6,
     "metadata": {},
     "output_type": "execute_result"
    }
   ],
   "source": [
    "fig = px.line(df_pr, x = 'Year', y = 'Value', title = 'GDP Comparison - ' + '&'.join(lst), color = 'Country Name')\n",
    "\n",
    "pyo.plot(fig, filename = \"& \".join(lst) + '.html')"
   ]
  },
  {
   "cell_type": "markdown",
   "id": "d164f4a0-45ca-44c7-9c93-a7d100c992fa",
   "metadata": {},
   "source": [
    "Comparison between 2 countries"
   ]
  },
  {
   "cell_type": "code",
   "execution_count": 31,
   "id": "e621b033-a72f-40ad-b6f9-38fbdc803316",
   "metadata": {},
   "outputs": [],
   "source": [
    "def compare_gdp(lst, isOpen):\n",
    "    \n",
    "    dfs = []\n",
    "    for i in lst:\n",
    "        dfs.append(df[df['Country Code'] == i])\n",
    "\n",
    "        df_pr = pd.concat(dfs, axis = 0)\n",
    "        \n",
    "    fig = px.line(df_pr, x = 'Year', y = 'Value', title = 'GDP Comparison - ' + '&'.join(lst), \n",
    "                  color = 'Country Name')\n",
    "    pyo.plot(fig, filename = '&'.join(lst) + '.html', auto_open = isOpen)\n",
    "    "
   ]
  },
  {
   "cell_type": "code",
   "execution_count": 33,
   "id": "71d01226-6746-481c-b726-d767ca8b967b",
   "metadata": {},
   "outputs": [],
   "source": [
    "compare_gdp(['IND','USA'],False)"
   ]
  },
  {
   "cell_type": "code",
   "execution_count": null,
   "id": "c19b018a-0cb0-484f-8880-f69128fb3a3a",
   "metadata": {},
   "outputs": [],
   "source": [
    "compare_gdp(['IND','CHN'],True)"
   ]
  },
  {
   "cell_type": "code",
   "execution_count": null,
   "id": "289d8093-fbd7-4dc8-969e-48c8030849b0",
   "metadata": {},
   "outputs": [],
   "source": [
    "compare_gdp(['IND','PAK'],False)"
   ]
  },
  {
   "cell_type": "code",
   "execution_count": null,
   "id": "5f09962d-b1b2-4679-971e-929c009bf612",
   "metadata": {},
   "outputs": [],
   "source": [
    "def compare_gdp(lst, isOpen):\n",
    "    \n",
    "    dfs = []\n",
    "    for i in lst:\n",
    "        dfs.append(df[df['Country Code'] == i])\n",
    "\n",
    "        df_pr = pd.concat(dfs, axis = 0)\n",
    "        \n",
    "    fig = px.line(df_pr, x = 'Year', y = 'GDP', title = 'GDP Comparison - ' + '&'.join(lst), \n",
    "                  color = 'Country Name')\n",
    "    pyo.plot(fig, filename = '&'.join(lst) + '.html', auto_open = isOpen)\n",
    "    "
   ]
  },
  {
   "cell_type": "code",
   "execution_count": null,
   "id": "db6c7fc7-d648-4206-8b80-95a74092fa69",
   "metadata": {},
   "outputs": [],
   "source": [
    "compare_gdp(['IND','USA',\"ITA\",\"CHN\"],False)"
   ]
  },
  {
   "cell_type": "markdown",
   "id": "85c53155-f1a8-4385-b95c-b548560a9a22",
   "metadata": {},
   "source": [
    "GDP Growth Comaprisons of all the countries"
   ]
  },
  {
   "cell_type": "code",
   "execution_count": null,
   "id": "b73baec0-7202-4f7f-b1ea-50e4342c6109",
   "metadata": {},
   "outputs": [],
   "source": [
    "fig = px.line(df, x = 'Year', y = 'GDP', title = 'GDP Comparison', color = 'Country Name')\n",
    "pyo.plot(fig, filename = 'GDP Growth.html', auto_open = True)"
   ]
  },
  {
   "cell_type": "markdown",
   "id": "8c93f25b-c6f4-4eb8-ad0e-be1f2ff7e931",
   "metadata": {},
   "source": [
    "GDP Growth of all countries individually"
   ]
  },
  {
   "cell_type": "code",
   "execution_count": null,
   "id": "d4573ece-406a-4af3-9884-50f27d1c482c",
   "metadata": {},
   "outputs": [],
   "source": [
    "os.mkdir('GDP Growth Individuals')\n",
    "\n",
    "for country_name in df['Country Code'].unique():\n",
    "\n",
    "    df_pr = df[df['Country Code'] == country_name]\n",
    "\n",
    "    fig = px.line(df_pr, x = 'Year', y = 'GDP', title = country_name)\n",
    "    pyo.plot(fig, filename = 'GDP Growth Individual/' + country_name + '.html', auto_open = False)"
   ]
  },
  {
   "cell_type": "markdown",
   "id": "71cb19da-18e2-4d48-9412-3c1461048d18",
   "metadata": {},
   "source": [
    "GDP Growth between 1960-2016"
   ]
  },
  {
   "cell_type": "code",
   "execution_count": 20,
   "id": "2ec15e97-a0a5-4bd6-bed8-e416226c75d8",
   "metadata": {},
   "outputs": [],
   "source": [
    "dfs=[]\n",
    "for country_name in df[\"Country Name\"].unique():\n",
    "    \n",
    "    df_pr=df[df[\"Country Name\"]==country_name]\n",
    "    if(len(df_pr)==57):\n",
    "        dfs.append(df_pr)\n",
    "df_pr=pd.concat(dfs,axis=0)        "
   ]
  },
  {
   "cell_type": "code",
   "execution_count": 22,
   "id": "9739aa0b-a1aa-42ec-ae7d-36ce4239a7b4",
   "metadata": {},
   "outputs": [
    {
     "data": {
      "text/html": [
       "<div>\n",
       "<style scoped>\n",
       "    .dataframe tbody tr th:only-of-type {\n",
       "        vertical-align: middle;\n",
       "    }\n",
       "\n",
       "    .dataframe tbody tr th {\n",
       "        vertical-align: top;\n",
       "    }\n",
       "\n",
       "    .dataframe thead th {\n",
       "        text-align: right;\n",
       "    }\n",
       "</style>\n",
       "<table border=\"1\" class=\"dataframe\">\n",
       "  <thead>\n",
       "    <tr style=\"text-align: right;\">\n",
       "      <th></th>\n",
       "      <th>Country Name</th>\n",
       "      <th>Country Code</th>\n",
       "      <th>Year</th>\n",
       "      <th>Value</th>\n",
       "      <th>GDP</th>\n",
       "    </tr>\n",
       "  </thead>\n",
       "  <tbody>\n",
       "    <tr>\n",
       "      <th>49</th>\n",
       "      <td>Caribbean small states</td>\n",
       "      <td>CSS</td>\n",
       "      <td>1960</td>\n",
       "      <td>2.004785e+09</td>\n",
       "      <td>0.00</td>\n",
       "    </tr>\n",
       "    <tr>\n",
       "      <th>50</th>\n",
       "      <td>Caribbean small states</td>\n",
       "      <td>CSS</td>\n",
       "      <td>1961</td>\n",
       "      <td>2.169733e+09</td>\n",
       "      <td>8.23</td>\n",
       "    </tr>\n",
       "    <tr>\n",
       "      <th>51</th>\n",
       "      <td>Caribbean small states</td>\n",
       "      <td>CSS</td>\n",
       "      <td>1962</td>\n",
       "      <td>2.289495e+09</td>\n",
       "      <td>5.52</td>\n",
       "    </tr>\n",
       "    <tr>\n",
       "      <th>52</th>\n",
       "      <td>Caribbean small states</td>\n",
       "      <td>CSS</td>\n",
       "      <td>1963</td>\n",
       "      <td>2.431592e+09</td>\n",
       "      <td>6.21</td>\n",
       "    </tr>\n",
       "    <tr>\n",
       "      <th>53</th>\n",
       "      <td>Caribbean small states</td>\n",
       "      <td>CSS</td>\n",
       "      <td>1964</td>\n",
       "      <td>2.626896e+09</td>\n",
       "      <td>8.03</td>\n",
       "    </tr>\n",
       "    <tr>\n",
       "      <th>...</th>\n",
       "      <td>...</td>\n",
       "      <td>...</td>\n",
       "      <td>...</td>\n",
       "      <td>...</td>\n",
       "      <td>...</td>\n",
       "    </tr>\n",
       "    <tr>\n",
       "      <th>11502</th>\n",
       "      <td>Zimbabwe</td>\n",
       "      <td>ZWE</td>\n",
       "      <td>2012</td>\n",
       "      <td>1.424249e+10</td>\n",
       "      <td>17.72</td>\n",
       "    </tr>\n",
       "    <tr>\n",
       "      <th>11503</th>\n",
       "      <td>Zimbabwe</td>\n",
       "      <td>ZWE</td>\n",
       "      <td>2013</td>\n",
       "      <td>1.545177e+10</td>\n",
       "      <td>8.49</td>\n",
       "    </tr>\n",
       "    <tr>\n",
       "      <th>11504</th>\n",
       "      <td>Zimbabwe</td>\n",
       "      <td>ZWE</td>\n",
       "      <td>2014</td>\n",
       "      <td>1.589105e+10</td>\n",
       "      <td>2.84</td>\n",
       "    </tr>\n",
       "    <tr>\n",
       "      <th>11505</th>\n",
       "      <td>Zimbabwe</td>\n",
       "      <td>ZWE</td>\n",
       "      <td>2015</td>\n",
       "      <td>1.630467e+10</td>\n",
       "      <td>2.60</td>\n",
       "    </tr>\n",
       "    <tr>\n",
       "      <th>11506</th>\n",
       "      <td>Zimbabwe</td>\n",
       "      <td>ZWE</td>\n",
       "      <td>2016</td>\n",
       "      <td>1.661996e+10</td>\n",
       "      <td>1.93</td>\n",
       "    </tr>\n",
       "  </tbody>\n",
       "</table>\n",
       "<p>6840 rows × 5 columns</p>\n",
       "</div>"
      ],
      "text/plain": [
       "                 Country Name Country Code  Year         Value    GDP\n",
       "49     Caribbean small states          CSS  1960  2.004785e+09   0.00\n",
       "50     Caribbean small states          CSS  1961  2.169733e+09   8.23\n",
       "51     Caribbean small states          CSS  1962  2.289495e+09   5.52\n",
       "52     Caribbean small states          CSS  1963  2.431592e+09   6.21\n",
       "53     Caribbean small states          CSS  1964  2.626896e+09   8.03\n",
       "...                       ...          ...   ...           ...    ...\n",
       "11502                Zimbabwe          ZWE  2012  1.424249e+10  17.72\n",
       "11503                Zimbabwe          ZWE  2013  1.545177e+10   8.49\n",
       "11504                Zimbabwe          ZWE  2014  1.589105e+10   2.84\n",
       "11505                Zimbabwe          ZWE  2015  1.630467e+10   2.60\n",
       "11506                Zimbabwe          ZWE  2016  1.661996e+10   1.93\n",
       "\n",
       "[6840 rows x 5 columns]"
      ]
     },
     "execution_count": 22,
     "metadata": {},
     "output_type": "execute_result"
    }
   ],
   "source": [
    "df_pr"
   ]
  },
  {
   "cell_type": "code",
   "execution_count": 35,
   "id": "198aaad8-9191-4aab-8eff-92216ce5af88",
   "metadata": {},
   "outputs": [
    {
     "data": {
      "text/plain": [
       "'GDP Growth .html'"
      ]
     },
     "execution_count": 35,
     "metadata": {},
     "output_type": "execute_result"
    }
   ],
   "source": [
    "\n",
    "fig = px.line(df_pr, x = 'Year', y = 'GDP', title = country_name,color=\"Country Name\")\n",
    "pyo.plot(fig, filename = 'GDP Growth .html', auto_open =True)"
   ]
  },
  {
   "cell_type": "code",
   "execution_count": null,
   "id": "53327fda-ee1c-4c18-a4aa-00e37e3407c6",
   "metadata": {},
   "outputs": [],
   "source": []
  },
  {
   "cell_type": "code",
   "execution_count": null,
   "id": "4a77bb9c-c70f-43c5-b0fa-15bfbbaf7df0",
   "metadata": {},
   "outputs": [],
   "source": []
  },
  {
   "cell_type": "code",
   "execution_count": null,
   "id": "00512830-beca-47e4-8e6b-f99d51d26e30",
   "metadata": {},
   "outputs": [],
   "source": []
  },
  {
   "cell_type": "code",
   "execution_count": null,
   "id": "528270fd-b1e4-45d6-8804-1c79d8fc5a75",
   "metadata": {},
   "outputs": [],
   "source": []
  },
  {
   "cell_type": "code",
   "execution_count": null,
   "id": "abbb79b8-c45b-4828-b404-ef75198ac84d",
   "metadata": {},
   "outputs": [],
   "source": []
  },
  {
   "cell_type": "code",
   "execution_count": null,
   "id": "2257e767-6b87-468b-9102-181d6da5e53b",
   "metadata": {},
   "outputs": [],
   "source": []
  },
  {
   "cell_type": "code",
   "execution_count": null,
   "id": "768f322a-ffe0-4f92-8c12-b996bdbebcbe",
   "metadata": {},
   "outputs": [],
   "source": []
  }
 ],
 "metadata": {
  "kernelspec": {
   "display_name": "Python 3 (ipykernel)",
   "language": "python",
   "name": "python3"
  },
  "language_info": {
   "codemirror_mode": {
    "name": "ipython",
    "version": 3
   },
   "file_extension": ".py",
   "mimetype": "text/x-python",
   "name": "python",
   "nbconvert_exporter": "python",
   "pygments_lexer": "ipython3",
   "version": "3.11.7"
  }
 },
 "nbformat": 4,
 "nbformat_minor": 5
}
