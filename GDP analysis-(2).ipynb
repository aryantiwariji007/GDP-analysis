{
 "cells": [
  {
   "cell_type": "code",
   "execution_count": 1,
   "id": "866bbbed-7729-4d80-bed5-f8d9ed795da3",
   "metadata": {},
   "outputs": [],
   "source": [
    "import os\n",
    "import pandas as pd\n",
    "import numpy as sns\n",
    "import seaborn as sns\n",
    "import plotly.express as px\n",
    "import plotly.offline as pyo"
   ]
  },
  {
   "cell_type": "code",
   "execution_count": 2,
   "id": "15289c4e-5ba9-4182-b95e-3cbf715a2a8e",
   "metadata": {},
   "outputs": [],
   "source": [
    "\n",
    "df=pd.read_csv(\"gdp.csv\")"
   ]
  },
  {
   "cell_type": "code",
   "execution_count": 3,
   "id": "a1cc64d8-3dcf-4d54-8919-1bb7d45b0678",
   "metadata": {},
   "outputs": [
    {
     "data": {
      "text/html": [
       "<div>\n",
       "<style scoped>\n",
       "    .dataframe tbody tr th:only-of-type {\n",
       "        vertical-align: middle;\n",
       "    }\n",
       "\n",
       "    .dataframe tbody tr th {\n",
       "        vertical-align: top;\n",
       "    }\n",
       "\n",
       "    .dataframe thead th {\n",
       "        text-align: right;\n",
       "    }\n",
       "</style>\n",
       "<table border=\"1\" class=\"dataframe\">\n",
       "  <thead>\n",
       "    <tr style=\"text-align: right;\">\n",
       "      <th></th>\n",
       "      <th>Country Name</th>\n",
       "      <th>Country Code</th>\n",
       "      <th>Year</th>\n",
       "      <th>Value</th>\n",
       "    </tr>\n",
       "  </thead>\n",
       "  <tbody>\n",
       "    <tr>\n",
       "      <th>0</th>\n",
       "      <td>Arab World</td>\n",
       "      <td>ARB</td>\n",
       "      <td>1968</td>\n",
       "      <td>2.576068e+10</td>\n",
       "    </tr>\n",
       "    <tr>\n",
       "      <th>1</th>\n",
       "      <td>Arab World</td>\n",
       "      <td>ARB</td>\n",
       "      <td>1969</td>\n",
       "      <td>2.843420e+10</td>\n",
       "    </tr>\n",
       "    <tr>\n",
       "      <th>2</th>\n",
       "      <td>Arab World</td>\n",
       "      <td>ARB</td>\n",
       "      <td>1970</td>\n",
       "      <td>3.138550e+10</td>\n",
       "    </tr>\n",
       "    <tr>\n",
       "      <th>3</th>\n",
       "      <td>Arab World</td>\n",
       "      <td>ARB</td>\n",
       "      <td>1971</td>\n",
       "      <td>3.642691e+10</td>\n",
       "    </tr>\n",
       "    <tr>\n",
       "      <th>4</th>\n",
       "      <td>Arab World</td>\n",
       "      <td>ARB</td>\n",
       "      <td>1972</td>\n",
       "      <td>4.331606e+10</td>\n",
       "    </tr>\n",
       "  </tbody>\n",
       "</table>\n",
       "</div>"
      ],
      "text/plain": [
       "  Country Name Country Code  Year         Value\n",
       "0   Arab World          ARB  1968  2.576068e+10\n",
       "1   Arab World          ARB  1969  2.843420e+10\n",
       "2   Arab World          ARB  1970  3.138550e+10\n",
       "3   Arab World          ARB  1971  3.642691e+10\n",
       "4   Arab World          ARB  1972  4.331606e+10"
      ]
     },
     "execution_count": 3,
     "metadata": {},
     "output_type": "execute_result"
    }
   ],
   "source": [
    "df.head()"
   ]
  },
  {
   "cell_type": "markdown",
   "id": "725b6d8c-26be-4477-83c6-468f445c654b",
   "metadata": {},
   "source": [
    "Finding GDP growth of ARAB WORLD"
   ]
  },
  {
   "cell_type": "code",
   "execution_count": 5,
   "id": "6e272d1d-8130-4445-b89c-d46afbf1e445",
   "metadata": {},
   "outputs": [],
   "source": [
    "\n",
    "df_pr = df[df['Country Name'] == 'Arab World']\n",
    "\n",
    "data = df_pr.values\n",
    "\n",
    "gdp_change = [0]\n",
    "\n",
    "for i in range(1,len(data)):\n",
    "    \n",
    "    prev = data[i-1][3]\n",
    "    cur = data[i][3]\n",
    "    \n",
    "    gdp_change.append(round(((cur - prev) / prev)*100,2))\n",
    "    \n",
    "df_pr = df_pr.assign(GDP = gdp_change)"
   ]
  },
  {
   "cell_type": "markdown",
   "id": "4eb1b197-50a7-469a-ab17-932fc2eee396",
   "metadata": {},
   "source": [
    "Finding GDP growth of each and every Couuntry"
   ]
  },
  {
   "cell_type": "code",
   "execution_count": 7,
   "id": "cf75bb26-ab2e-418d-bd1b-4c6dace62a1b",
   "metadata": {},
   "outputs": [],
   "source": [
    "final_data = []\n",
    "\n",
    "for country_name in df['Country Name'].unique():\n",
    "    \n",
    "    df_pr = df[df['Country Name'] == country_name]\n",
    "\n",
    "    data = df_pr.values\n",
    "    gdp_change = [0]\n",
    "\n",
    "    for i in range(1,len(data)):\n",
    "\n",
    "        prev = data[i-1][3]\n",
    "        cur = data[i][3]\n",
    "\n",
    "        gdp_change.append(round(((cur - prev) / prev)*100,2))\n",
    "\n",
    "    df_pr = df_pr.assign(GDP = gdp_change)\n",
    "    final_data.append(df_pr)"
   ]
  },
  {
   "cell_type": "code",
   "execution_count": 8,
   "id": "26a32d53-8a18-49f4-9d8f-b229ecf9eab5",
   "metadata": {},
   "outputs": [],
   "source": [
    "df=pd.concat(final_data,axis=0)"
   ]
  },
  {
   "cell_type": "code",
   "execution_count": 9,
   "id": "8bdd9bc0-1866-4004-937b-e964d3cdf6d5",
   "metadata": {},
   "outputs": [
    {
     "data": {
      "text/html": [
       "<div>\n",
       "<style scoped>\n",
       "    .dataframe tbody tr th:only-of-type {\n",
       "        vertical-align: middle;\n",
       "    }\n",
       "\n",
       "    .dataframe tbody tr th {\n",
       "        vertical-align: top;\n",
       "    }\n",
       "\n",
       "    .dataframe thead th {\n",
       "        text-align: right;\n",
       "    }\n",
       "</style>\n",
       "<table border=\"1\" class=\"dataframe\">\n",
       "  <thead>\n",
       "    <tr style=\"text-align: right;\">\n",
       "      <th></th>\n",
       "      <th>Country Name</th>\n",
       "      <th>Country Code</th>\n",
       "      <th>Year</th>\n",
       "      <th>Value</th>\n",
       "      <th>GDP</th>\n",
       "    </tr>\n",
       "  </thead>\n",
       "  <tbody>\n",
       "    <tr>\n",
       "      <th>0</th>\n",
       "      <td>Arab World</td>\n",
       "      <td>ARB</td>\n",
       "      <td>1968</td>\n",
       "      <td>2.576068e+10</td>\n",
       "      <td>0.00</td>\n",
       "    </tr>\n",
       "    <tr>\n",
       "      <th>1</th>\n",
       "      <td>Arab World</td>\n",
       "      <td>ARB</td>\n",
       "      <td>1969</td>\n",
       "      <td>2.843420e+10</td>\n",
       "      <td>10.38</td>\n",
       "    </tr>\n",
       "    <tr>\n",
       "      <th>2</th>\n",
       "      <td>Arab World</td>\n",
       "      <td>ARB</td>\n",
       "      <td>1970</td>\n",
       "      <td>3.138550e+10</td>\n",
       "      <td>10.38</td>\n",
       "    </tr>\n",
       "    <tr>\n",
       "      <th>3</th>\n",
       "      <td>Arab World</td>\n",
       "      <td>ARB</td>\n",
       "      <td>1971</td>\n",
       "      <td>3.642691e+10</td>\n",
       "      <td>16.06</td>\n",
       "    </tr>\n",
       "    <tr>\n",
       "      <th>4</th>\n",
       "      <td>Arab World</td>\n",
       "      <td>ARB</td>\n",
       "      <td>1972</td>\n",
       "      <td>4.331606e+10</td>\n",
       "      <td>18.91</td>\n",
       "    </tr>\n",
       "    <tr>\n",
       "      <th>...</th>\n",
       "      <td>...</td>\n",
       "      <td>...</td>\n",
       "      <td>...</td>\n",
       "      <td>...</td>\n",
       "      <td>...</td>\n",
       "    </tr>\n",
       "    <tr>\n",
       "      <th>11502</th>\n",
       "      <td>Zimbabwe</td>\n",
       "      <td>ZWE</td>\n",
       "      <td>2012</td>\n",
       "      <td>1.424249e+10</td>\n",
       "      <td>17.72</td>\n",
       "    </tr>\n",
       "    <tr>\n",
       "      <th>11503</th>\n",
       "      <td>Zimbabwe</td>\n",
       "      <td>ZWE</td>\n",
       "      <td>2013</td>\n",
       "      <td>1.545177e+10</td>\n",
       "      <td>8.49</td>\n",
       "    </tr>\n",
       "    <tr>\n",
       "      <th>11504</th>\n",
       "      <td>Zimbabwe</td>\n",
       "      <td>ZWE</td>\n",
       "      <td>2014</td>\n",
       "      <td>1.589105e+10</td>\n",
       "      <td>2.84</td>\n",
       "    </tr>\n",
       "    <tr>\n",
       "      <th>11505</th>\n",
       "      <td>Zimbabwe</td>\n",
       "      <td>ZWE</td>\n",
       "      <td>2015</td>\n",
       "      <td>1.630467e+10</td>\n",
       "      <td>2.60</td>\n",
       "    </tr>\n",
       "    <tr>\n",
       "      <th>11506</th>\n",
       "      <td>Zimbabwe</td>\n",
       "      <td>ZWE</td>\n",
       "      <td>2016</td>\n",
       "      <td>1.661996e+10</td>\n",
       "      <td>1.93</td>\n",
       "    </tr>\n",
       "  </tbody>\n",
       "</table>\n",
       "<p>11507 rows × 5 columns</p>\n",
       "</div>"
      ],
      "text/plain": [
       "      Country Name Country Code  Year         Value    GDP\n",
       "0       Arab World          ARB  1968  2.576068e+10   0.00\n",
       "1       Arab World          ARB  1969  2.843420e+10  10.38\n",
       "2       Arab World          ARB  1970  3.138550e+10  10.38\n",
       "3       Arab World          ARB  1971  3.642691e+10  16.06\n",
       "4       Arab World          ARB  1972  4.331606e+10  18.91\n",
       "...            ...          ...   ...           ...    ...\n",
       "11502     Zimbabwe          ZWE  2012  1.424249e+10  17.72\n",
       "11503     Zimbabwe          ZWE  2013  1.545177e+10   8.49\n",
       "11504     Zimbabwe          ZWE  2014  1.589105e+10   2.84\n",
       "11505     Zimbabwe          ZWE  2015  1.630467e+10   2.60\n",
       "11506     Zimbabwe          ZWE  2016  1.661996e+10   1.93\n",
       "\n",
       "[11507 rows x 5 columns]"
      ]
     },
     "execution_count": 9,
     "metadata": {},
     "output_type": "execute_result"
    }
   ],
   "source": [
    "df"
   ]
  },
  {
   "cell_type": "code",
   "execution_count": 10,
   "id": "e7f0ca53-9ea0-46ac-8047-4bc44bf367eb",
   "metadata": {},
   "outputs": [
    {
     "data": {
      "text/plain": [
       "Country Name\n",
       "World                                                   7.904923e+13\n",
       "High income                                             5.036240e+13\n",
       "OECD members                                            4.937008e+13\n",
       "Post-demographic dividend                               4.673504e+13\n",
       "IDA & IBRD total                                        2.948247e+13\n",
       "Low & middle income                                     2.870476e+13\n",
       "Middle income                                           2.829277e+13\n",
       "IBRD only                                               2.739661e+13\n",
       "Europe & Central Asia                                   2.365470e+13\n",
       "East Asia & Pacific                                     2.248043e+13\n",
       "Upper middle income                                     2.221220e+13\n",
       "North America                                           2.016030e+13\n",
       "Late-demographic dividend                               1.970310e+13\n",
       "European Union                                          1.913667e+13\n",
       "United States                                           1.862448e+13\n",
       "Euro area                                               1.411818e+13\n",
       "East Asia & Pacific (excluding high income)             1.351244e+13\n",
       "East Asia & Pacific (IDA & IBRD countries)              1.348649e+13\n",
       "China                                                   1.119915e+13\n",
       "Early-demographic dividend                              1.052987e+13\n",
       "Latin America & Caribbean                               6.391550e+12\n",
       "Lower middle income                                     6.263373e+12\n",
       "Japan                                                   6.203213e+12\n",
       "Latin America & the Caribbean (IDA & IBRD countries)    6.171392e+12\n",
       "Latin America & Caribbean (excluding high income)       5.905518e+12\n",
       "Europe & Central Asia (IDA & IBRD countries)            4.893444e+12\n",
       "Europe & Central Asia (excluding high income)           4.369243e+12\n",
       "Germany                                                 3.890607e+12\n",
       "Middle East & North Africa                              3.563559e+12\n",
       "United Kingdom                                          3.074360e+12\n",
       "France                                                  2.923466e+12\n",
       "Arab World                                              2.906616e+12\n",
       "South Asia (IDA & IBRD)                                 2.892481e+12\n",
       "South Asia                                              2.892481e+12\n",
       "Brazil                                                  2.616202e+12\n",
       "Italy                                                   2.390729e+12\n",
       "Russian Federation                                      2.297128e+12\n",
       "India                                                   2.263792e+12\n",
       "IDA total                                               2.094666e+12\n",
       "Canada                                                  1.842628e+12\n",
       "Sub-Saharan Africa                                      1.780285e+12\n",
       "Sub-Saharan Africa (IDA & IBRD countries)               1.780285e+12\n",
       "Sub-Saharan Africa (excluding high income)              1.778862e+12\n",
       "Middle East & North Africa (excluding high income)      1.681555e+12\n",
       "Middle East & North Africa (IDA & IBRD countries)       1.670274e+12\n",
       "Spain                                                   1.635015e+12\n",
       "Australia                                               1.567179e+12\n",
       "Central Europe and the Baltics                          1.524160e+12\n",
       "Pre-demographic dividend                                1.496971e+12\n",
       "Korea, Rep.                                             1.411334e+12\n",
       "Name: Value, dtype: float64"
      ]
     },
     "execution_count": 10,
     "metadata": {},
     "output_type": "execute_result"
    }
   ],
   "source": [
    "df.groupby(\"Country Name\").max()[\"Value\"].sort_values(ascending=False).head(50)"
   ]
  },
  {
   "cell_type": "code",
   "execution_count": 11,
   "id": "d94bab5a-6462-4327-b58e-fa33072daf3a",
   "metadata": {},
   "outputs": [
    {
     "data": {
      "text/html": [
       "<div>\n",
       "<style scoped>\n",
       "    .dataframe tbody tr th:only-of-type {\n",
       "        vertical-align: middle;\n",
       "    }\n",
       "\n",
       "    .dataframe tbody tr th {\n",
       "        vertical-align: top;\n",
       "    }\n",
       "\n",
       "    .dataframe thead th {\n",
       "        text-align: right;\n",
       "    }\n",
       "</style>\n",
       "<table border=\"1\" class=\"dataframe\">\n",
       "  <thead>\n",
       "    <tr style=\"text-align: right;\">\n",
       "      <th></th>\n",
       "      <th>Country Name</th>\n",
       "      <th>Country Code</th>\n",
       "      <th>Year</th>\n",
       "      <th>Value</th>\n",
       "      <th>GDP</th>\n",
       "    </tr>\n",
       "  </thead>\n",
       "  <tbody>\n",
       "    <tr>\n",
       "      <th>0</th>\n",
       "      <td>Arab World</td>\n",
       "      <td>ARB</td>\n",
       "      <td>1968</td>\n",
       "      <td>2.576068e+10</td>\n",
       "      <td>0.00</td>\n",
       "    </tr>\n",
       "    <tr>\n",
       "      <th>1</th>\n",
       "      <td>Arab World</td>\n",
       "      <td>ARB</td>\n",
       "      <td>1969</td>\n",
       "      <td>2.843420e+10</td>\n",
       "      <td>10.38</td>\n",
       "    </tr>\n",
       "    <tr>\n",
       "      <th>2</th>\n",
       "      <td>Arab World</td>\n",
       "      <td>ARB</td>\n",
       "      <td>1970</td>\n",
       "      <td>3.138550e+10</td>\n",
       "      <td>10.38</td>\n",
       "    </tr>\n",
       "    <tr>\n",
       "      <th>3</th>\n",
       "      <td>Arab World</td>\n",
       "      <td>ARB</td>\n",
       "      <td>1971</td>\n",
       "      <td>3.642691e+10</td>\n",
       "      <td>16.06</td>\n",
       "    </tr>\n",
       "    <tr>\n",
       "      <th>4</th>\n",
       "      <td>Arab World</td>\n",
       "      <td>ARB</td>\n",
       "      <td>1972</td>\n",
       "      <td>4.331606e+10</td>\n",
       "      <td>18.91</td>\n",
       "    </tr>\n",
       "  </tbody>\n",
       "</table>\n",
       "</div>"
      ],
      "text/plain": [
       "  Country Name Country Code  Year         Value    GDP\n",
       "0   Arab World          ARB  1968  2.576068e+10   0.00\n",
       "1   Arab World          ARB  1969  2.843420e+10  10.38\n",
       "2   Arab World          ARB  1970  3.138550e+10  10.38\n",
       "3   Arab World          ARB  1971  3.642691e+10  16.06\n",
       "4   Arab World          ARB  1972  4.331606e+10  18.91"
      ]
     },
     "execution_count": 11,
     "metadata": {},
     "output_type": "execute_result"
    }
   ],
   "source": [
    "df.head()"
   ]
  },
  {
   "cell_type": "code",
   "execution_count": 12,
   "id": "c28746bf-b0be-4333-84b0-489343786d42",
   "metadata": {},
   "outputs": [
    {
     "ename": "NameError",
     "evalue": "name 'fig' is not defined",
     "output_type": "error",
     "traceback": [
      "\u001b[1;31m---------------------------------------------------------------------------\u001b[0m",
      "\u001b[1;31mNameError\u001b[0m                                 Traceback (most recent call last)",
      "Cell \u001b[1;32mIn[12], line 1\u001b[0m\n\u001b[1;32m----> 1\u001b[0m pyo\u001b[38;5;241m.\u001b[39mplot(fig,filename\u001b[38;5;241m=\u001b[39m\u001b[38;5;124m\"\u001b[39m\u001b[38;5;124mWorld GDP.html\u001b[39m\u001b[38;5;124m\"\u001b[39m)\n",
      "\u001b[1;31mNameError\u001b[0m: name 'fig' is not defined"
     ]
    }
   ],
   "source": [
    "pyo.plot(fig,filename=\"World GDP.html\")\n"
   ]
  },
  {
   "cell_type": "code",
   "execution_count": null,
   "id": "829adde9-b99c-4f52-a32f-877fb3d15226",
   "metadata": {},
   "outputs": [],
   "source": [
    "df_pr=df[df[\"Country Name\"]==\"World\"]\n",
    "fig=px.line(df_pr,x=\"Year\",y=\"Value\",title=\"World GDP Analysis\")"
   ]
  },
  {
   "cell_type": "code",
   "execution_count": null,
   "id": "9affa538-a19e-4e6a-acaf-2b63c5effe21",
   "metadata": {},
   "outputs": [],
   "source": [
    "fig"
   ]
  },
  {
   "cell_type": "code",
   "execution_count": null,
   "id": "80f9c0e8-9cbd-4fde-8df6-3bc9f4599e28",
   "metadata": {},
   "outputs": [],
   "source": [
    "pyo.plot(fig,filename=\"India GDP.html\")\n"
   ]
  },
  {
   "cell_type": "code",
   "execution_count": null,
   "id": "7ef0165c-f326-41ca-a9d9-355c2efeec76",
   "metadata": {},
   "outputs": [],
   "source": [
    "df_pr=df[df[\"Country Name\"]==\"India\"]\n",
    "fig=px.line(df_pr,x=\"Year\",y=\"Value\",title=\"Indian GDP Analysis\")"
   ]
  },
  {
   "cell_type": "code",
   "execution_count": null,
   "id": "10180762-02be-4260-a41a-59822abb76ca",
   "metadata": {},
   "outputs": [],
   "source": [
    "fig\n"
   ]
  },
  {
   "cell_type": "code",
   "execution_count": null,
   "id": "70581c5f-63f3-47e4-a6e9-5477bfa3bbab",
   "metadata": {},
   "outputs": [],
   "source": [
    "df[\"Country Name\"].nunique()\n"
   ]
  },
  {
   "cell_type": "markdown",
   "id": "c0f03a6a-29b5-4cda-b24f-3a224a2aa7ca",
   "metadata": {},
   "source": [
    "GDP for Each country"
   ]
  },
  {
   "cell_type": "code",
   "execution_count": null,
   "id": "b36fb6b1-73ae-4343-9ca8-02120854331e",
   "metadata": {},
   "outputs": [],
   "source": [
    "os.mkdir('GDP Individual')\n",
    "\n",
    "for country_name in df['Country Name'].unique():\n",
    "    \n",
    "    df_pr = df[df['Country Name'] == country_name]\n",
    "    fig = px.line(df_pr, x = 'Year', y = 'Value', title = country_name + ' GDP Analysis')\n",
    "    pyo.plot(fig, filename = 'GDP Individual/' + country_name + '.html', auto_open = False)"
   ]
  },
  {
   "cell_type": "markdown",
   "id": "d00dfa0d-0c91-4209-bda3-b0847d7ce360",
   "metadata": {},
   "source": [
    "GDP wrt to 80 trillion"
   ]
  },
  {
   "cell_type": "code",
   "execution_count": null,
   "id": "c35f868f-6e20-43e6-b9c7-d6aea4610eeb",
   "metadata": {},
   "outputs": [],
   "source": [
    "os.mkdir('GDP Individual WRT World')\n",
    "\n",
    "for country_name in df['Country Name'].unique():\n",
    "    \n",
    "    df_pr = df[df['Country Name'] == country_name]\n",
    "    fig = px.line(df_pr, x = 'Year', y = 'Value', title = country_name + ' GDP Analysis', range_y = [0,80000000000000])\n",
    "    pyo.plot(fig, filename = 'GDP Individual WRT World/' + country_name + '.html', auto_open = False)\n"
   ]
  },
  {
   "cell_type": "markdown",
   "id": "f2b78523-eda4-4de8-8859-10eebda4cbcf",
   "metadata": {},
   "source": [
    "GDP of all countries "
   ]
  },
  {
   "cell_type": "code",
   "execution_count": null,
   "id": "7f8f4e25-e336-4df3-8aa7-00beb3678856",
   "metadata": {},
   "outputs": [],
   "source": [
    "fig = px.line(df, x = 'Year', y = 'Value', title = 'GDP Analysis of All Countries', color = 'Country Name')\n",
    "\n",
    "pyo.plot(fig, filename = 'Countries GDP.html')"
   ]
  },
  {
   "cell_type": "markdown",
   "id": "15f16f94-5e51-46f2-9492-0d4b3be5df28",
   "metadata": {},
   "source": [
    "GDP Comparison between INDIA and CHINA"
   ]
  },
  {
   "cell_type": "code",
   "execution_count": null,
   "id": "8b418c39-e4fe-41c5-8988-c9591a3a8272",
   "metadata": {},
   "outputs": [],
   "source": [
    "c1=df[df[\"Country Name\"]==\"China\"]\n",
    "c2=df[df[\"Country Name\"]==\"India\"]\n",
    "\n",
    "\n"
   ]
  },
  {
   "cell_type": "code",
   "execution_count": null,
   "id": "c4ce969e-7af2-4080-96e5-79f9989f49d0",
   "metadata": {},
   "outputs": [],
   "source": [
    "c2.head()\n"
   ]
  },
  {
   "cell_type": "code",
   "execution_count": null,
   "id": "5d6fef5e-0434-4d40-afe1-a77936ab3bb2",
   "metadata": {},
   "outputs": [],
   "source": [
    "df_pr=pd.concat([c1,c2],axis=0)"
   ]
  },
  {
   "cell_type": "code",
   "execution_count": null,
   "id": "5d282733-644c-4597-b671-692368c06841",
   "metadata": {},
   "outputs": [],
   "source": [
    "df_pr"
   ]
  },
  {
   "cell_type": "code",
   "execution_count": null,
   "id": "4920cd1f-1f15-46f8-9d9c-917dce5baf0d",
   "metadata": {},
   "outputs": [],
   "source": [
    "fig = px.line(df_pr, x = 'Year', y = 'Value', title = 'GDP Comparison | India & China', color = 'Country Name')\n",
    "\n",
    "pyo.plot(fig, filename = 'IND CHN.html')"
   ]
  },
  {
   "cell_type": "markdown",
   "id": "9f150ef3-3a88-4b4b-9d43-e20608bbbbe9",
   "metadata": {},
   "source": [
    "GDP Comparison  of China and World"
   ]
  },
  {
   "cell_type": "code",
   "execution_count": null,
   "id": "24fd43dd-b59f-4d8d-a51c-f36b5b48931f",
   "metadata": {},
   "outputs": [],
   "source": [
    "c1=df[df[\"Country Name\"]==\"China\"]\n",
    "c2=df[df[\"Country Name\"]==\"World\"]\n",
    "df_pr=pd.concat([c1,c2],axis=0)\n",
    "fig = px.line(df_pr, x = 'Year', y = 'Value', title = 'GDP Comparison | China & World', color = 'Country Name')\n",
    "\n",
    "pyo.plot(fig, filename =  'CHN World.html')"
   ]
  },
  {
   "cell_type": "code",
   "execution_count": null,
   "id": "e4a00caa-6c96-484d-a076-3815d8bd3efd",
   "metadata": {},
   "outputs": [],
   "source": []
  },
  {
   "cell_type": "code",
   "execution_count": null,
   "id": "8e4082a7-c156-4848-9e9b-c86a9d8c78bd",
   "metadata": {},
   "outputs": [],
   "source": []
  },
  {
   "cell_type": "code",
   "execution_count": null,
   "id": "b09c7ba2-4182-49e3-b84d-6142f2b7b55e",
   "metadata": {},
   "outputs": [],
   "source": []
  },
  {
   "cell_type": "code",
   "execution_count": null,
   "id": "e40df338-8951-4738-8aca-311c930753e4",
   "metadata": {},
   "outputs": [],
   "source": []
  },
  {
   "cell_type": "code",
   "execution_count": null,
   "id": "f7b98973-0014-4ebd-ad21-7c077d0421f7",
   "metadata": {},
   "outputs": [],
   "source": []
  },
  {
   "cell_type": "code",
   "execution_count": null,
   "id": "f5d50cae-049b-4194-bca7-749827c31b60",
   "metadata": {},
   "outputs": [],
   "source": []
  },
  {
   "cell_type": "code",
   "execution_count": null,
   "id": "defe2390-720e-42dc-b924-061ebe3c4bed",
   "metadata": {},
   "outputs": [],
   "source": []
  },
  {
   "cell_type": "code",
   "execution_count": null,
   "id": "40bfeba8-5267-49f3-902f-bbb0a2aaa4ab",
   "metadata": {},
   "outputs": [],
   "source": []
  },
  {
   "cell_type": "code",
   "execution_count": null,
   "id": "78b14aff-2159-477d-8d5b-a28fbf195bb9",
   "metadata": {},
   "outputs": [],
   "source": []
  }
 ],
 "metadata": {
  "kernelspec": {
   "display_name": "Python 3 (ipykernel)",
   "language": "python",
   "name": "python3"
  },
  "language_info": {
   "codemirror_mode": {
    "name": "ipython",
    "version": 3
   },
   "file_extension": ".py",
   "mimetype": "text/x-python",
   "name": "python",
   "nbconvert_exporter": "python",
   "pygments_lexer": "ipython3",
   "version": "3.11.7"
  }
 },
 "nbformat": 4,
 "nbformat_minor": 5
}
